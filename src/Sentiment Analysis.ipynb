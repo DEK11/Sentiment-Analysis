{
 "cells": [
  {
   "cell_type": "markdown",
   "metadata": {},
   "source": [
    "# Authentication File"
   ]
  },
  {
   "cell_type": "code",
   "execution_count": 1,
   "metadata": {
    "collapsed": true
   },
   "outputs": [],
   "source": [
    "class Authentication:\n",
    "    def __init__(self):\n",
    "        cred = open(\"resources/MyCredentials.txt\", \"r\", encoding='utf-8', errors='replace').read().split('\\n')\n",
    "        self.ckey = cred[0]\n",
    "        self.csecret = cred[1]\n",
    "        self.atoken = cred[2]\n",
    "        self.asecret = cred[3]"
   ]
  },
  {
   "cell_type": "markdown",
   "metadata": {},
   "source": [
    "# Get the Data Source, and Prepare Training and Test set"
   ]
  },
  {
   "cell_type": "code",
   "execution_count": 2,
   "metadata": {
    "collapsed": true
   },
   "outputs": [],
   "source": [
    "from nltk.tokenize import word_tokenize\n",
    "from nltk import pos_tag, FreqDist\n",
    "import random\n",
    "import pickle\n",
    "\n",
    "\n",
    "def DataSources():\n",
    "    positiveData = open(\"resources/positive.txt\", \"r\", encoding='utf-8', errors='replace').read()\n",
    "    negativeData = open(\"resources/negative.txt\", \"r\", encoding='utf-8', errors='replace').read()\n",
    "    return positiveData, negativeData\n",
    "\n",
    "\n",
    "def PrepareData():\n",
    "    train_pos, train_neg = DataSources()\n",
    "    documents = []\n",
    "    all_words = []\n",
    "    \n",
    "#    j is adjective, r is adverb, and v is verb\n",
    "#    allowed_word_types = [\"J\",\"R\",\"V\"]\n",
    "    allowed_word_types = [\"J\"]\n",
    "\n",
    "    for p in train_pos.split('\\n'):\n",
    "        documents.append((p, \"pos\"))\n",
    "        words = word_tokenize(p)\n",
    "        pos = pos_tag(words)\n",
    "        for w in pos:\n",
    "            if w[1][0] in allowed_word_types:\n",
    "                all_words.append(w[0].lower())\n",
    "\n",
    "    for p in train_neg.split('\\n'):\n",
    "        documents.append((p, \"neg\"))\n",
    "        words = word_tokenize(p)\n",
    "        pos = pos_tag(words)\n",
    "        for w in pos:\n",
    "            if w[1][0] in allowed_word_types:\n",
    "                all_words.append(w[0].lower())\n",
    "    \n",
    "    save_documents = open(\"saved/documents.p\", \"wb\")\n",
    "    pickle.dump(documents, save_documents)\n",
    "    save_documents.close()\n",
    "\n",
    "    all_words = FreqDist(all_words)\n",
    "    word_features = list(all_words.keys())[:5000]\n",
    "\n",
    "    save_word_features = open(\"saved/word_features5k.p\", \"wb\")\n",
    "    pickle.dump(word_features, save_word_features)\n",
    "    save_word_features.close()\n",
    "\n",
    "    features = [(find_features(rev, word_features), category) for (rev, category) in documents]\n",
    "    return features\n",
    "\n",
    "\n",
    "def find_features(document, word_features):\n",
    "    words = word_tokenize(document)\n",
    "    features = {}\n",
    "    for w in word_features:\n",
    "        features[w] = (w in words)\n",
    "    return features\n",
    "\n",
    "\n",
    "def TestTrainData():\n",
    "    featuresets = PrepareData()\n",
    "    random.shuffle(featuresets)\n",
    "#    print(len(featuresets))\n",
    "    testing_set = featuresets[10000:]\n",
    "    training_set = featuresets[:10000]\n",
    "    return training_set, testing_set"
   ]
  },
  {
   "cell_type": "markdown",
   "metadata": {},
   "source": [
    "# Train Classifiers and store them "
   ]
  },
  {
   "cell_type": "code",
   "execution_count": 3,
   "metadata": {
    "collapsed": true
   },
   "outputs": [],
   "source": [
    "from nltk.classify.scikitlearn import SklearnClassifier\n",
    "from sklearn.naive_bayes import MultinomialNB, BernoulliNB\n",
    "from sklearn.linear_model import LogisticRegression, SGDClassifier\n",
    "from sklearn.svm import LinearSVC\n",
    "from nltk import NaiveBayesClassifier, classify\n",
    "# from gsu.data import TestTrainData\n",
    "import pickle\n",
    "\n",
    "\n",
    "def TrainClassifiers():\n",
    "    training_set, testing_set = TestTrainData()\n",
    "\n",
    "    classifiers = list()\n",
    "    classifier_name = list()\n",
    "\n",
    "    NaiveBayesClassifier_classifier = NaiveBayesClassifier.train(training_set)\n",
    "    classifiers.append(NaiveBayesClassifier_classifier)\n",
    "    classifier_name.append(\"NaiveBayesClassifier\")\n",
    "\n",
    "    MNB_classifier = SklearnClassifier(MultinomialNB())\n",
    "    MNB_classifier.train(training_set)\n",
    "    classifiers.append(MNB_classifier)\n",
    "    classifier_name.append(\"MultinomialNBClassifier\")\n",
    "\n",
    "    BernoulliNB_classifier = SklearnClassifier(BernoulliNB())\n",
    "    BernoulliNB_classifier.train(training_set)\n",
    "    classifiers.append(BernoulliNB_classifier)\n",
    "    classifier_name.append(\"BernoulliNBClassifier\")\n",
    "\n",
    "    LogisticRegression_classifier = SklearnClassifier(LogisticRegression())\n",
    "    LogisticRegression_classifier.train(training_set)\n",
    "    classifiers.append(LogisticRegression_classifier)\n",
    "    classifier_name.append(\"LogisticRegressionClassifier\")\n",
    "\n",
    "    LinearSVC_classifier = SklearnClassifier(LinearSVC())\n",
    "    LinearSVC_classifier.train(training_set)\n",
    "    classifiers.append(LogisticRegression_classifier)\n",
    "    classifier_name.append(\"LinearSVCClassifier\")\n",
    "\n",
    "    SGDC_classifier = SklearnClassifier(SGDClassifier())\n",
    "    SGDC_classifier.train(training_set)\n",
    "    classifiers.append(SGDC_classifier)\n",
    "    classifier_name.append(\"SGDClassifier\")\n",
    "\n",
    "    print(\"Naive_Bayes Algo accuracy percent:\", \n",
    "          (classify.accuracy(NaiveBayesClassifier_classifier, testing_set))*100)\n",
    "    \n",
    "    print(\"MNB_classifier accuracy percent:\", \n",
    "          (classify.accuracy(MNB_classifier, testing_set))*100)\n",
    "    \n",
    "    print(\"BernoulliNB_classifier accuracy percent:\", \n",
    "          (classify.accuracy(BernoulliNB_classifier, testing_set))*100)\n",
    "    \n",
    "    print(\"LogisticRegression_classifier accuracy percent:\", \n",
    "          (classify.accuracy(LogisticRegression_classifier, testing_set))*100)\n",
    "    \n",
    "    print(\"LinearSVC_classifier accuracy percent:\", \n",
    "          (classify.accuracy(LinearSVC_classifier, testing_set))*100)\n",
    "    \n",
    "    print(\"SGDClassifier accuracy percent:\", \n",
    "          (classify.accuracy(SGDC_classifier, testing_set))*100)\n",
    "\n",
    "    SaveClassifiers(classifiers, classifier_name)\n",
    "\n",
    "    return classifiers\n",
    "\n",
    "\n",
    "def SaveClassifiers(classifiers, classifier_name):\n",
    "\n",
    "    for i in range(0, len(classifiers)):\n",
    "        save_classifier_path = open(\"saved/\" + classifier_name[i] + \".p\", \"wb\")\n",
    "        pickle.dump(classifiers[i], save_classifier_path)\n",
    "        save_classifier_path.close()\n",
    "\n",
    "    save_classifier_path = open(\"saved/classifier_name.p\", \"wb\")\n",
    "    pickle.dump(classifier_name, save_classifier_path)"
   ]
  },
  {
   "cell_type": "markdown",
   "metadata": {},
   "source": [
    "# Rather than training the same classifiers everytime without any change of the data, or parameters, we are loading it from next time"
   ]
  },
  {
   "cell_type": "code",
   "execution_count": 4,
   "metadata": {
    "collapsed": true
   },
   "outputs": [],
   "source": [
    "import random\n",
    "import pickle\n",
    "from nltk.tokenize import word_tokenize\n",
    "from nltk import classify\n",
    "\n",
    "\n",
    "\n",
    "def find_features(document, word_features):\n",
    "    words = word_tokenize(document)\n",
    "    features = {}\n",
    "    for w in word_features:\n",
    "        features[w] = (w in words)\n",
    "    return features\n",
    "\n",
    "\n",
    "def LoadData(shuffle=False):\n",
    "\n",
    "    documents_f = open(\"saved/documents.p\", \"rb\")\n",
    "    documents = pickle.load(documents_f)\n",
    "    documents_f.close()\n",
    "\n",
    "    documents_f = open(\"saved/word_features5k.p\", \"rb\")\n",
    "    word_features = pickle.load(documents_f)\n",
    "    documents_f.close()\n",
    "\n",
    "    features = [(find_features(rev, word_features), category) for (rev, category) in documents]\n",
    "\n",
    "    if shuffle:\n",
    "        random.shuffle(features)\n",
    "\n",
    "    testing_set = features[10000:]\n",
    "    training_set = features[:10000]\n",
    "\n",
    "    return training_set, testing_set\n",
    "\n",
    "\n",
    "def LoadClassifiers():\n",
    "    document = open(\"saved/classifier_name.p\", \"rb\")\n",
    "    classifier_name = pickle.load(document)\n",
    "    document.close()\n",
    "    # print(classifier_name)\n",
    "    classifiers = list()\n",
    "\n",
    "#     training_set, testing_set = LoadData()\n",
    "\n",
    "    for name in classifier_name:\n",
    "        document = open(\"saved/\" + name + \".p\", \"rb\")\n",
    "        classifier = pickle.load(document)\n",
    "#         print(name + \" Algo accuracy percent:\", (classify.accuracy(classifier, testing_set))*100)\n",
    "\n",
    "        classifiers.append(classifier)\n",
    "        document.close()\n",
    "\n",
    "    return classifiers\n",
    "\n",
    "\n",
    "def LoadFeatures():\n",
    "    documents_f = open(\"saved/word_features5k.p\", \"rb\")\n",
    "    word_features = pickle.load(documents_f)\n",
    "    documents_f.close()\n",
    "    return word_features"
   ]
  },
  {
   "cell_type": "markdown",
   "metadata": {},
   "source": [
    "# This class gives us the classifiers and also gives the confidence"
   ]
  },
  {
   "cell_type": "code",
   "execution_count": 5,
   "metadata": {
    "collapsed": true
   },
   "outputs": [],
   "source": [
    "from nltk.classify import ClassifierI\n",
    "from statistics import mode, StatisticsError\n",
    "\n",
    "\n",
    "class VoteClassifier(ClassifierI):\n",
    "    def __init__(self, classifiers):\n",
    "        self._classifiers = classifiers\n",
    "\n",
    "    def classify(self, features):\n",
    "        votes = []\n",
    "        for c in self._classifiers:\n",
    "            v = c.classify(features)\n",
    "            votes.append(v)\n",
    "        ret = \"neg\"\n",
    "        try:\n",
    "            ret = mode(votes)\n",
    "        except StatisticsError:\n",
    "            # print(\"Caught1\")\n",
    "            pass\n",
    "        return ret\n",
    "\n",
    "    def confidence(self, features):\n",
    "        votes = []\n",
    "        for c in self._classifiers:\n",
    "            v = c.classify(features)\n",
    "            votes.append(v)\n",
    "\n",
    "        try:\n",
    "            choice_votes = votes.count(mode(votes))\n",
    "            conf = choice_votes / len(votes)\n",
    "            return conf\n",
    "        except StatisticsError:\n",
    "            # print(\"Caught2\")\n",
    "            return 0.5"
   ]
  },
  {
   "cell_type": "markdown",
   "metadata": {},
   "source": [
    "# This class gives us the sentiment of evry sentence wheather it is positive or negative"
   ]
  },
  {
   "cell_type": "code",
   "execution_count": 6,
   "metadata": {
    "collapsed": true
   },
   "outputs": [],
   "source": [
    "# # from gsu.train import TrainClassifiers\n",
    "# from gsu.load import LoadClassifiers\n",
    "# from gsu.load import LoadFeatures\n",
    "# from gsu.data import find_features\n",
    "# from gsu.VoteClassifier import VoteClassifier\n",
    "\n",
    "\n",
    "class Sentiment:\n",
    "\n",
    "    def __init__(self):\n",
    "        # classifiers = TrainClassifiers()\n",
    "        classifiers = LoadClassifiers()\n",
    "        self.votedClassifier = VoteClassifier(classifiers)\n",
    "        self.new_features = LoadFeatures()\n",
    "\n",
    "    def Analyse(self, text):\n",
    "        new_features = find_features(text, self.new_features)\n",
    "        return self.votedClassifier.classify(new_features), self.votedClassifier.confidence(new_features)"
   ]
  },
  {
   "cell_type": "markdown",
   "metadata": {},
   "source": [
    "#This will now predict wheather the sentence is positive or negative"
   ]
  },
  {
   "cell_type": "code",
   "execution_count": 7,
   "metadata": {
    "collapsed": false
   },
   "outputs": [
    {
     "name": "stdout",
     "output_type": "stream",
     "text": [
      "('pos', 1.0)\n",
      "('pos', 1.0)\n",
      "('neg', 1.0)\n"
     ]
    }
   ],
   "source": [
    "# from gsu.Sentiment import Sentiment\n",
    "\n",
    "s = Sentiment()\n",
    "print(s.Analyse(\"This movie was awesome! The acting was great, plot was wonderful, and there were \"\n",
    "                    \"pythons...so yea!\"))\n",
    "\n",
    "print(s.Analyse(\"I am happy and awesome\"))\n",
    "\n",
    "print(s.Analyse(\"This movie was awesome\"))"
   ]
  },
  {
   "cell_type": "markdown",
   "metadata": {},
   "source": [
    "# This exercise we did was to build a scalable project, with good coding practice. The performance could have been better if we had more data and time to tune the models"
   ]
  },
  {
   "cell_type": "code",
   "execution_count": 8,
   "metadata": {
    "collapsed": false
   },
   "outputs": [
    {
     "name": "stdout",
     "output_type": "stream",
     "text": [
      "The Obama Doctrine: https://t.co/5D0k2RWm5c neg 1.0\n",
      "RT @Paul1Singh: On all this fury about Ken, let's remember what Boris said about #Obama. Has David Cameron suspended #BorisJohnson yet? neg 1.0\n",
      "RT @boomerforbernie: @panegron Obama was defending his friends in the banks today. Guess he is on the list for big speaker fees. neg 0.8333333333333334\n",
      "RT @TimGclaw: Plus nothing said about his overtly racist comments concerning Africans and Obama, strange that as well https://t.co/gK4JOpCk… neg 1.0\n",
      "BREAKING: Government Of Kenya Has Released Obama's Authentic Birth Certificate https://t.co/Hkm4UIUALY via @usheraldnews neg 1.0\n",
      "@realDonaldTrump what do you think about reports of Michelle Obama being a male ? neg 1.0\n",
      "BREAKING: Government Of Kenya Has Released Obama's Authentic Birth Certificate https://t.co/oaMzGxwTNF via @usheraldnews neg 1.0\n",
      "Michelle Obama In Harlem To Promote Higher Education During College Signing Day \n",
      "https://t.co/c5Kk6JSku7\n",
      "#education neg 1.0\n",
      "RT @JudgeMoroz: Every US President declared America is a Christian nation ...\n",
      "\n",
      "except one: Barack Obama.\n",
      "\n",
      "We can do better!\n",
      "\n",
      "#Trump\n",
      "\n",
      "https:… neg 1.0\n",
      "RT @TexasCruzn: Study Finds Michelle Obama’s “Let’s Move!” Campaign A Failure – #BB4SP https://t.co/QAu8D0XjDK neg 1.0\n",
      "RT @risetoflyy: Fiorina CIA spook just like Obama n Cruz! ⬇️ RT! https://t.co/npXeipvtUP neg 1.0\n"
     ]
    },
    {
     "ename": "KeyboardInterrupt",
     "evalue": "",
     "output_type": "error",
     "traceback": [
      "\u001b[1;31m---------------------------------------------------------------------------\u001b[0m",
      "\u001b[1;31mKeyboardInterrupt\u001b[0m                         Traceback (most recent call last)",
      "\u001b[1;32m<ipython-input-8-19fdecd4b786>\u001b[0m in \u001b[0;36m<module>\u001b[1;34m()\u001b[0m\n\u001b[0;32m     53\u001b[0m \u001b[1;33m\u001b[0m\u001b[0m\n\u001b[0;32m     54\u001b[0m \u001b[1;32mif\u001b[0m \u001b[0m__name__\u001b[0m \u001b[1;33m==\u001b[0m \u001b[1;34m'__main__'\u001b[0m\u001b[1;33m:\u001b[0m\u001b[1;33m\u001b[0m\u001b[0m\n\u001b[1;32m---> 55\u001b[1;33m     \u001b[0mmain\u001b[0m\u001b[1;33m(\u001b[0m\u001b[1;33m)\u001b[0m\u001b[1;33m\u001b[0m\u001b[0m\n\u001b[0m",
      "\u001b[1;32m<ipython-input-8-19fdecd4b786>\u001b[0m in \u001b[0;36mmain\u001b[1;34m()\u001b[0m\n\u001b[0;32m     49\u001b[0m     \u001b[0mauth\u001b[0m\u001b[1;33m.\u001b[0m\u001b[0mset_access_token\u001b[0m\u001b[1;33m(\u001b[0m\u001b[0mcred\u001b[0m\u001b[1;33m.\u001b[0m\u001b[0matoken\u001b[0m\u001b[1;33m,\u001b[0m \u001b[0mcred\u001b[0m\u001b[1;33m.\u001b[0m\u001b[0masecret\u001b[0m\u001b[1;33m)\u001b[0m\u001b[1;33m\u001b[0m\u001b[0m\n\u001b[0;32m     50\u001b[0m     \u001b[0mtwitterStream\u001b[0m \u001b[1;33m=\u001b[0m \u001b[0mStream\u001b[0m\u001b[1;33m(\u001b[0m\u001b[0mauth\u001b[0m\u001b[1;33m,\u001b[0m \u001b[0mListener\u001b[0m\u001b[1;33m(\u001b[0m\u001b[1;33m)\u001b[0m\u001b[1;33m)\u001b[0m\u001b[1;33m\u001b[0m\u001b[0m\n\u001b[1;32m---> 51\u001b[1;33m     \u001b[0mtwitterStream\u001b[0m\u001b[1;33m.\u001b[0m\u001b[0mfilter\u001b[0m\u001b[1;33m(\u001b[0m\u001b[0mtrack\u001b[0m\u001b[1;33m=\u001b[0m\u001b[1;33m[\u001b[0m\u001b[1;34m\"Obama\"\u001b[0m\u001b[1;33m]\u001b[0m\u001b[1;33m)\u001b[0m\u001b[1;33m\u001b[0m\u001b[0m\n\u001b[0m\u001b[0;32m     52\u001b[0m \u001b[1;33m\u001b[0m\u001b[0m\n\u001b[0;32m     53\u001b[0m \u001b[1;33m\u001b[0m\u001b[0m\n",
      "\u001b[1;32m/home/debasish/anaconda3/lib/python3.4/site-packages/tweepy/streaming.py\u001b[0m in \u001b[0;36mfilter\u001b[1;34m(self, follow, track, async, locations, stall_warnings, languages, encoding, filter_level)\u001b[0m\n\u001b[0;32m    443\u001b[0m         \u001b[0mself\u001b[0m\u001b[1;33m.\u001b[0m\u001b[0msession\u001b[0m\u001b[1;33m.\u001b[0m\u001b[0mparams\u001b[0m \u001b[1;33m=\u001b[0m \u001b[1;33m{\u001b[0m\u001b[1;34m'delimited'\u001b[0m\u001b[1;33m:\u001b[0m \u001b[1;34m'length'\u001b[0m\u001b[1;33m}\u001b[0m\u001b[1;33m\u001b[0m\u001b[0m\n\u001b[0;32m    444\u001b[0m         \u001b[0mself\u001b[0m\u001b[1;33m.\u001b[0m\u001b[0mhost\u001b[0m \u001b[1;33m=\u001b[0m \u001b[1;34m'stream.twitter.com'\u001b[0m\u001b[1;33m\u001b[0m\u001b[0m\n\u001b[1;32m--> 445\u001b[1;33m         \u001b[0mself\u001b[0m\u001b[1;33m.\u001b[0m\u001b[0m_start\u001b[0m\u001b[1;33m(\u001b[0m\u001b[0masync\u001b[0m\u001b[1;33m)\u001b[0m\u001b[1;33m\u001b[0m\u001b[0m\n\u001b[0m\u001b[0;32m    446\u001b[0m \u001b[1;33m\u001b[0m\u001b[0m\n\u001b[0;32m    447\u001b[0m     def sitestream(self, follow, stall_warnings=False,\n",
      "\u001b[1;32m/home/debasish/anaconda3/lib/python3.4/site-packages/tweepy/streaming.py\u001b[0m in \u001b[0;36m_start\u001b[1;34m(self, async)\u001b[0m\n\u001b[0;32m    359\u001b[0m             \u001b[0mself\u001b[0m\u001b[1;33m.\u001b[0m\u001b[0m_thread\u001b[0m\u001b[1;33m.\u001b[0m\u001b[0mstart\u001b[0m\u001b[1;33m(\u001b[0m\u001b[1;33m)\u001b[0m\u001b[1;33m\u001b[0m\u001b[0m\n\u001b[0;32m    360\u001b[0m         \u001b[1;32melse\u001b[0m\u001b[1;33m:\u001b[0m\u001b[1;33m\u001b[0m\u001b[0m\n\u001b[1;32m--> 361\u001b[1;33m             \u001b[0mself\u001b[0m\u001b[1;33m.\u001b[0m\u001b[0m_run\u001b[0m\u001b[1;33m(\u001b[0m\u001b[1;33m)\u001b[0m\u001b[1;33m\u001b[0m\u001b[0m\n\u001b[0m\u001b[0;32m    362\u001b[0m \u001b[1;33m\u001b[0m\u001b[0m\n\u001b[0;32m    363\u001b[0m     \u001b[1;32mdef\u001b[0m \u001b[0mon_closed\u001b[0m\u001b[1;33m(\u001b[0m\u001b[0mself\u001b[0m\u001b[1;33m,\u001b[0m \u001b[0mresp\u001b[0m\u001b[1;33m)\u001b[0m\u001b[1;33m:\u001b[0m\u001b[1;33m\u001b[0m\u001b[0m\n",
      "\u001b[1;32m/home/debasish/anaconda3/lib/python3.4/site-packages/tweepy/streaming.py\u001b[0m in \u001b[0;36m_run\u001b[1;34m(self)\u001b[0m\n\u001b[0;32m    261\u001b[0m                     \u001b[0mself\u001b[0m\u001b[1;33m.\u001b[0m\u001b[0msnooze_time\u001b[0m \u001b[1;33m=\u001b[0m \u001b[0mself\u001b[0m\u001b[1;33m.\u001b[0m\u001b[0msnooze_time_step\u001b[0m\u001b[1;33m\u001b[0m\u001b[0m\n\u001b[0;32m    262\u001b[0m                     \u001b[0mself\u001b[0m\u001b[1;33m.\u001b[0m\u001b[0mlistener\u001b[0m\u001b[1;33m.\u001b[0m\u001b[0mon_connect\u001b[0m\u001b[1;33m(\u001b[0m\u001b[1;33m)\u001b[0m\u001b[1;33m\u001b[0m\u001b[0m\n\u001b[1;32m--> 263\u001b[1;33m                     \u001b[0mself\u001b[0m\u001b[1;33m.\u001b[0m\u001b[0m_read_loop\u001b[0m\u001b[1;33m(\u001b[0m\u001b[0mresp\u001b[0m\u001b[1;33m)\u001b[0m\u001b[1;33m\u001b[0m\u001b[0m\n\u001b[0m\u001b[0;32m    264\u001b[0m             \u001b[1;32mexcept\u001b[0m \u001b[1;33m(\u001b[0m\u001b[0mTimeout\u001b[0m\u001b[1;33m,\u001b[0m \u001b[0mssl\u001b[0m\u001b[1;33m.\u001b[0m\u001b[0mSSLError\u001b[0m\u001b[1;33m)\u001b[0m \u001b[1;32mas\u001b[0m \u001b[0mexc\u001b[0m\u001b[1;33m:\u001b[0m\u001b[1;33m\u001b[0m\u001b[0m\n\u001b[0;32m    265\u001b[0m                 \u001b[1;31m# This is still necessary, as a SSLError can actually be\u001b[0m\u001b[1;33m\u001b[0m\u001b[1;33m\u001b[0m\u001b[0m\n",
      "\u001b[1;32m/home/debasish/anaconda3/lib/python3.4/site-packages/tweepy/streaming.py\u001b[0m in \u001b[0;36m_read_loop\u001b[1;34m(self, resp)\u001b[0m\n\u001b[0;32m    322\u001b[0m             \u001b[0mnext_status_obj\u001b[0m \u001b[1;33m=\u001b[0m \u001b[0mbuf\u001b[0m\u001b[1;33m.\u001b[0m\u001b[0mread_len\u001b[0m\u001b[1;33m(\u001b[0m\u001b[0mlength\u001b[0m\u001b[1;33m)\u001b[0m\u001b[1;33m\u001b[0m\u001b[0m\n\u001b[0;32m    323\u001b[0m             \u001b[1;32mif\u001b[0m \u001b[0mself\u001b[0m\u001b[1;33m.\u001b[0m\u001b[0mrunning\u001b[0m\u001b[1;33m:\u001b[0m\u001b[1;33m\u001b[0m\u001b[0m\n\u001b[1;32m--> 324\u001b[1;33m                 \u001b[0mself\u001b[0m\u001b[1;33m.\u001b[0m\u001b[0m_data\u001b[0m\u001b[1;33m(\u001b[0m\u001b[0mnext_status_obj\u001b[0m\u001b[1;33m)\u001b[0m\u001b[1;33m\u001b[0m\u001b[0m\n\u001b[0m\u001b[0;32m    325\u001b[0m \u001b[1;33m\u001b[0m\u001b[0m\n\u001b[0;32m    326\u001b[0m             \u001b[1;31m# # Note: keep-alive newlines might be inserted before each length value.\u001b[0m\u001b[1;33m\u001b[0m\u001b[1;33m\u001b[0m\u001b[0m\n",
      "\u001b[1;32m/home/debasish/anaconda3/lib/python3.4/site-packages/tweepy/streaming.py\u001b[0m in \u001b[0;36m_data\u001b[1;34m(self, data)\u001b[0m\n\u001b[0;32m    295\u001b[0m \u001b[1;33m\u001b[0m\u001b[0m\n\u001b[0;32m    296\u001b[0m     \u001b[1;32mdef\u001b[0m \u001b[0m_data\u001b[0m\u001b[1;33m(\u001b[0m\u001b[0mself\u001b[0m\u001b[1;33m,\u001b[0m \u001b[0mdata\u001b[0m\u001b[1;33m)\u001b[0m\u001b[1;33m:\u001b[0m\u001b[1;33m\u001b[0m\u001b[0m\n\u001b[1;32m--> 297\u001b[1;33m         \u001b[1;32mif\u001b[0m \u001b[0mself\u001b[0m\u001b[1;33m.\u001b[0m\u001b[0mlistener\u001b[0m\u001b[1;33m.\u001b[0m\u001b[0mon_data\u001b[0m\u001b[1;33m(\u001b[0m\u001b[0mdata\u001b[0m\u001b[1;33m)\u001b[0m \u001b[1;32mis\u001b[0m \u001b[1;32mFalse\u001b[0m\u001b[1;33m:\u001b[0m\u001b[1;33m\u001b[0m\u001b[0m\n\u001b[0m\u001b[0;32m    298\u001b[0m             \u001b[0mself\u001b[0m\u001b[1;33m.\u001b[0m\u001b[0mrunning\u001b[0m \u001b[1;33m=\u001b[0m \u001b[1;32mFalse\u001b[0m\u001b[1;33m\u001b[0m\u001b[0m\n\u001b[0;32m    299\u001b[0m \u001b[1;33m\u001b[0m\u001b[0m\n",
      "\u001b[1;32m<ipython-input-8-19fdecd4b786>\u001b[0m in \u001b[0;36mon_data\u001b[1;34m(self, data)\u001b[0m\n\u001b[0;32m     30\u001b[0m         \u001b[0mtweet\u001b[0m \u001b[1;33m=\u001b[0m \u001b[0mall_data\u001b[0m\u001b[1;33m[\u001b[0m\u001b[1;34m\"text\"\u001b[0m\u001b[1;33m]\u001b[0m\u001b[1;33m\u001b[0m\u001b[0m\n\u001b[0;32m     31\u001b[0m         \u001b[1;31m# print(\"\\n\\nneeded\\n\\n\", tweet, \"\\n\\nEnded\\n\\n\")\u001b[0m\u001b[1;33m\u001b[0m\u001b[1;33m\u001b[0m\u001b[0m\n\u001b[1;32m---> 32\u001b[1;33m         \u001b[0msentiment_value\u001b[0m\u001b[1;33m,\u001b[0m \u001b[0mconfidence\u001b[0m \u001b[1;33m=\u001b[0m \u001b[0mself\u001b[0m\u001b[1;33m.\u001b[0m\u001b[0ms\u001b[0m\u001b[1;33m.\u001b[0m\u001b[0mAnalyse\u001b[0m\u001b[1;33m(\u001b[0m\u001b[0mtweet\u001b[0m\u001b[1;33m)\u001b[0m\u001b[1;33m\u001b[0m\u001b[0m\n\u001b[0m\u001b[0;32m     33\u001b[0m         \u001b[0mprint\u001b[0m\u001b[1;33m(\u001b[0m\u001b[0mtweet\u001b[0m\u001b[1;33m,\u001b[0m \u001b[0msentiment_value\u001b[0m\u001b[1;33m,\u001b[0m \u001b[0mconfidence\u001b[0m\u001b[1;33m)\u001b[0m\u001b[1;33m\u001b[0m\u001b[0m\n\u001b[0;32m     34\u001b[0m \u001b[1;33m\u001b[0m\u001b[0m\n",
      "\u001b[1;32m<ipython-input-6-4196560c2b28>\u001b[0m in \u001b[0;36mAnalyse\u001b[1;34m(self, text)\u001b[0m\n\u001b[0;32m     16\u001b[0m     \u001b[1;32mdef\u001b[0m \u001b[0mAnalyse\u001b[0m\u001b[1;33m(\u001b[0m\u001b[0mself\u001b[0m\u001b[1;33m,\u001b[0m \u001b[0mtext\u001b[0m\u001b[1;33m)\u001b[0m\u001b[1;33m:\u001b[0m\u001b[1;33m\u001b[0m\u001b[0m\n\u001b[0;32m     17\u001b[0m         \u001b[0mnew_features\u001b[0m \u001b[1;33m=\u001b[0m \u001b[0mfind_features\u001b[0m\u001b[1;33m(\u001b[0m\u001b[0mtext\u001b[0m\u001b[1;33m,\u001b[0m \u001b[0mself\u001b[0m\u001b[1;33m.\u001b[0m\u001b[0mnew_features\u001b[0m\u001b[1;33m)\u001b[0m\u001b[1;33m\u001b[0m\u001b[0m\n\u001b[1;32m---> 18\u001b[1;33m         \u001b[1;32mreturn\u001b[0m \u001b[0mself\u001b[0m\u001b[1;33m.\u001b[0m\u001b[0mvotedClassifier\u001b[0m\u001b[1;33m.\u001b[0m\u001b[0mclassify\u001b[0m\u001b[1;33m(\u001b[0m\u001b[0mnew_features\u001b[0m\u001b[1;33m)\u001b[0m\u001b[1;33m,\u001b[0m \u001b[0mself\u001b[0m\u001b[1;33m.\u001b[0m\u001b[0mvotedClassifier\u001b[0m\u001b[1;33m.\u001b[0m\u001b[0mconfidence\u001b[0m\u001b[1;33m(\u001b[0m\u001b[0mnew_features\u001b[0m\u001b[1;33m)\u001b[0m\u001b[1;33m\u001b[0m\u001b[0m\n\u001b[0m",
      "\u001b[1;32m<ipython-input-5-bb2f78a59555>\u001b[0m in \u001b[0;36mconfidence\u001b[1;34m(self, features)\u001b[0m\n\u001b[0;32m     23\u001b[0m         \u001b[0mvotes\u001b[0m \u001b[1;33m=\u001b[0m \u001b[1;33m[\u001b[0m\u001b[1;33m]\u001b[0m\u001b[1;33m\u001b[0m\u001b[0m\n\u001b[0;32m     24\u001b[0m         \u001b[1;32mfor\u001b[0m \u001b[0mc\u001b[0m \u001b[1;32min\u001b[0m \u001b[0mself\u001b[0m\u001b[1;33m.\u001b[0m\u001b[0m_classifiers\u001b[0m\u001b[1;33m:\u001b[0m\u001b[1;33m\u001b[0m\u001b[0m\n\u001b[1;32m---> 25\u001b[1;33m             \u001b[0mv\u001b[0m \u001b[1;33m=\u001b[0m \u001b[0mc\u001b[0m\u001b[1;33m.\u001b[0m\u001b[0mclassify\u001b[0m\u001b[1;33m(\u001b[0m\u001b[0mfeatures\u001b[0m\u001b[1;33m)\u001b[0m\u001b[1;33m\u001b[0m\u001b[0m\n\u001b[0m\u001b[0;32m     26\u001b[0m             \u001b[0mvotes\u001b[0m\u001b[1;33m.\u001b[0m\u001b[0mappend\u001b[0m\u001b[1;33m(\u001b[0m\u001b[0mv\u001b[0m\u001b[1;33m)\u001b[0m\u001b[1;33m\u001b[0m\u001b[0m\n\u001b[0;32m     27\u001b[0m \u001b[1;33m\u001b[0m\u001b[0m\n",
      "\u001b[1;32m/home/debasish/anaconda3/lib/python3.4/site-packages/nltk/classify/api.py\u001b[0m in \u001b[0;36mclassify\u001b[1;34m(self, featureset)\u001b[0m\n\u001b[0;32m     52\u001b[0m         \"\"\"\n\u001b[0;32m     53\u001b[0m         \u001b[1;32mif\u001b[0m \u001b[0moverridden\u001b[0m\u001b[1;33m(\u001b[0m\u001b[0mself\u001b[0m\u001b[1;33m.\u001b[0m\u001b[0mclassify_many\u001b[0m\u001b[1;33m)\u001b[0m\u001b[1;33m:\u001b[0m\u001b[1;33m\u001b[0m\u001b[0m\n\u001b[1;32m---> 54\u001b[1;33m             \u001b[1;32mreturn\u001b[0m \u001b[0mself\u001b[0m\u001b[1;33m.\u001b[0m\u001b[0mclassify_many\u001b[0m\u001b[1;33m(\u001b[0m\u001b[1;33m[\u001b[0m\u001b[0mfeatureset\u001b[0m\u001b[1;33m]\u001b[0m\u001b[1;33m)\u001b[0m\u001b[1;33m[\u001b[0m\u001b[1;36m0\u001b[0m\u001b[1;33m]\u001b[0m\u001b[1;33m\u001b[0m\u001b[0m\n\u001b[0m\u001b[0;32m     55\u001b[0m         \u001b[1;32melse\u001b[0m\u001b[1;33m:\u001b[0m\u001b[1;33m\u001b[0m\u001b[0m\n\u001b[0;32m     56\u001b[0m             \u001b[1;32mraise\u001b[0m \u001b[0mNotImplementedError\u001b[0m\u001b[1;33m(\u001b[0m\u001b[1;33m)\u001b[0m\u001b[1;33m\u001b[0m\u001b[0m\n",
      "\u001b[1;32m/home/debasish/anaconda3/lib/python3.4/site-packages/nltk/classify/scikitlearn.py\u001b[0m in \u001b[0;36mclassify_many\u001b[1;34m(self, featuresets)\u001b[0m\n\u001b[0;32m     81\u001b[0m         \u001b[1;33m:\u001b[0m\u001b[0mrtype\u001b[0m\u001b[1;33m:\u001b[0m \u001b[0mlist\u001b[0m\u001b[1;33m\u001b[0m\u001b[0m\n\u001b[0;32m     82\u001b[0m         \"\"\"\n\u001b[1;32m---> 83\u001b[1;33m         \u001b[0mX\u001b[0m \u001b[1;33m=\u001b[0m \u001b[0mself\u001b[0m\u001b[1;33m.\u001b[0m\u001b[0m_vectorizer\u001b[0m\u001b[1;33m.\u001b[0m\u001b[0mtransform\u001b[0m\u001b[1;33m(\u001b[0m\u001b[0mfeaturesets\u001b[0m\u001b[1;33m)\u001b[0m\u001b[1;33m\u001b[0m\u001b[0m\n\u001b[0m\u001b[0;32m     84\u001b[0m         \u001b[0mclasses\u001b[0m \u001b[1;33m=\u001b[0m \u001b[0mself\u001b[0m\u001b[1;33m.\u001b[0m\u001b[0m_encoder\u001b[0m\u001b[1;33m.\u001b[0m\u001b[0mclasses_\u001b[0m\u001b[1;33m\u001b[0m\u001b[0m\n\u001b[0;32m     85\u001b[0m         \u001b[1;32mreturn\u001b[0m \u001b[1;33m[\u001b[0m\u001b[0mclasses\u001b[0m\u001b[1;33m[\u001b[0m\u001b[0mi\u001b[0m\u001b[1;33m]\u001b[0m \u001b[1;32mfor\u001b[0m \u001b[0mi\u001b[0m \u001b[1;32min\u001b[0m \u001b[0mself\u001b[0m\u001b[1;33m.\u001b[0m\u001b[0m_clf\u001b[0m\u001b[1;33m.\u001b[0m\u001b[0mpredict\u001b[0m\u001b[1;33m(\u001b[0m\u001b[0mX\u001b[0m\u001b[1;33m)\u001b[0m\u001b[1;33m]\u001b[0m\u001b[1;33m\u001b[0m\u001b[0m\n",
      "\u001b[1;32m/home/debasish/anaconda3/lib/python3.4/site-packages/sklearn/feature_extraction/dict_vectorizer.py\u001b[0m in \u001b[0;36mtransform\u001b[1;34m(self, X, y)\u001b[0m\n\u001b[0;32m    284\u001b[0m         \"\"\"\n\u001b[0;32m    285\u001b[0m         \u001b[1;32mif\u001b[0m \u001b[0mself\u001b[0m\u001b[1;33m.\u001b[0m\u001b[0msparse\u001b[0m\u001b[1;33m:\u001b[0m\u001b[1;33m\u001b[0m\u001b[0m\n\u001b[1;32m--> 286\u001b[1;33m             \u001b[1;32mreturn\u001b[0m \u001b[0mself\u001b[0m\u001b[1;33m.\u001b[0m\u001b[0m_transform\u001b[0m\u001b[1;33m(\u001b[0m\u001b[0mX\u001b[0m\u001b[1;33m,\u001b[0m \u001b[0mfitting\u001b[0m\u001b[1;33m=\u001b[0m\u001b[1;32mFalse\u001b[0m\u001b[1;33m)\u001b[0m\u001b[1;33m\u001b[0m\u001b[0m\n\u001b[0m\u001b[0;32m    287\u001b[0m \u001b[1;33m\u001b[0m\u001b[0m\n\u001b[0;32m    288\u001b[0m         \u001b[1;32melse\u001b[0m\u001b[1;33m:\u001b[0m\u001b[1;33m\u001b[0m\u001b[0m\n",
      "\u001b[1;32m/home/debasish/anaconda3/lib/python3.4/site-packages/sklearn/feature_extraction/dict_vectorizer.py\u001b[0m in \u001b[0;36m_transform\u001b[1;34m(self, X, fitting)\u001b[0m\n\u001b[0;32m    159\u001b[0m         \u001b[1;32mfor\u001b[0m \u001b[0mx\u001b[0m \u001b[1;32min\u001b[0m \u001b[0mX\u001b[0m\u001b[1;33m:\u001b[0m\u001b[1;33m\u001b[0m\u001b[0m\n\u001b[0;32m    160\u001b[0m             \u001b[1;32mfor\u001b[0m \u001b[0mf\u001b[0m\u001b[1;33m,\u001b[0m \u001b[0mv\u001b[0m \u001b[1;32min\u001b[0m \u001b[0msix\u001b[0m\u001b[1;33m.\u001b[0m\u001b[0miteritems\u001b[0m\u001b[1;33m(\u001b[0m\u001b[0mx\u001b[0m\u001b[1;33m)\u001b[0m\u001b[1;33m:\u001b[0m\u001b[1;33m\u001b[0m\u001b[0m\n\u001b[1;32m--> 161\u001b[1;33m                 \u001b[1;32mif\u001b[0m \u001b[0misinstance\u001b[0m\u001b[1;33m(\u001b[0m\u001b[0mv\u001b[0m\u001b[1;33m,\u001b[0m \u001b[0msix\u001b[0m\u001b[1;33m.\u001b[0m\u001b[0mstring_types\u001b[0m\u001b[1;33m)\u001b[0m\u001b[1;33m:\u001b[0m\u001b[1;33m\u001b[0m\u001b[0m\n\u001b[0m\u001b[0;32m    162\u001b[0m                     \u001b[0mf\u001b[0m \u001b[1;33m=\u001b[0m \u001b[1;34m\"%s%s%s\"\u001b[0m \u001b[1;33m%\u001b[0m \u001b[1;33m(\u001b[0m\u001b[0mf\u001b[0m\u001b[1;33m,\u001b[0m \u001b[0mself\u001b[0m\u001b[1;33m.\u001b[0m\u001b[0mseparator\u001b[0m\u001b[1;33m,\u001b[0m \u001b[0mv\u001b[0m\u001b[1;33m)\u001b[0m\u001b[1;33m\u001b[0m\u001b[0m\n\u001b[0;32m    163\u001b[0m                     \u001b[0mv\u001b[0m \u001b[1;33m=\u001b[0m \u001b[1;36m1\u001b[0m\u001b[1;33m\u001b[0m\u001b[0m\n",
      "\u001b[1;31mKeyboardInterrupt\u001b[0m: "
     ]
    }
   ],
   "source": [
    "# from gsu.Sentiment import Sentiment\n",
    "# from gsu.Authentication import Authentication\n",
    "from tweepy import Stream\n",
    "from tweepy import OAuthHandler\n",
    "from tweepy.streaming import StreamListener\n",
    "import json\n",
    "import os\n",
    "# from elasticsearch import Elasticsearch\n",
    "\n",
    "\n",
    "class Listener(StreamListener):\n",
    "\n",
    "    def __init__(self):\n",
    "        super().__init__()\n",
    "        self.s = Sentiment()\n",
    "#         self.es = Elasticsearch()\n",
    "        self.count = 0\n",
    "        try:\n",
    "            os.remove(\"saved/twitter-out.txt\")\n",
    "        except OSError:\n",
    "            pass\n",
    "\n",
    "    def on_data(self, data):\n",
    "        all_data = json.loads(data)\n",
    "        # print(\"\\n\\nstarts\\n\\n\", all_data)\n",
    "        if all_data[\"lang\"] != \"en\":\n",
    "            return True\n",
    "        self.count += 1\n",
    "#         self.es.index(index=\"obama-index\", doc_type='obama', id=self.count, body=all_data)\n",
    "        tweet = all_data[\"text\"]\n",
    "        # print(\"\\n\\nneeded\\n\\n\", tweet, \"\\n\\nEnded\\n\\n\")\n",
    "        sentiment_value, confidence = self.s.Analyse(tweet)\n",
    "        print(tweet, sentiment_value, confidence)\n",
    "\n",
    "        if confidence*100 >= 80:\n",
    "            output = open(\"saved/obama-out.txt\", \"a\")\n",
    "            output.write(sentiment_value)\n",
    "            output.write('\\n')\n",
    "            output.close()\n",
    "        return True\n",
    "\n",
    "    def on_error(self, status):\n",
    "        print(status)\n",
    "\n",
    "\n",
    "def main():\n",
    "    cred = Authentication()\n",
    "    auth = OAuthHandler(cred.ckey, cred.csecret)\n",
    "    auth.set_access_token(cred.atoken, cred.asecret)\n",
    "    twitterStream = Stream(auth, Listener())\n",
    "    twitterStream.filter(track=[\"Obama\"])\n",
    "\n",
    "\n",
    "if __name__ == '__main__':\n",
    "    main()"
   ]
  },
  {
   "cell_type": "code",
   "execution_count": null,
   "metadata": {
    "collapsed": true
   },
   "outputs": [],
   "source": []
  }
 ],
 "metadata": {
  "kernelspec": {
   "display_name": "Python 3",
   "language": "python",
   "name": "python3"
  },
  "language_info": {
   "codemirror_mode": {
    "name": "ipython",
    "version": 3
   },
   "file_extension": ".py",
   "mimetype": "text/x-python",
   "name": "python",
   "nbconvert_exporter": "python",
   "pygments_lexer": "ipython3",
   "version": "3.4.3"
  }
 },
 "nbformat": 4,
 "nbformat_minor": 0
}
